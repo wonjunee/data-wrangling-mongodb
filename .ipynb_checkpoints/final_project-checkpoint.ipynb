{
 "cells": [
  {
   "cell_type": "markdown",
   "metadata": {},
   "source": [
    "# OpenStreetMap Project\n",
    "### Final Project - Data Wrangling with MongoDB\n",
    "### Udacity Data Analyst Nanodegree"
   ]
  },
  {
   "cell_type": "markdown",
   "metadata": {},
   "source": [
    "### Overview\n",
    "\n",
    "This project will perform the data wrangling using the osm file from the **OpenStreetMap** website.\n",
    "\n",
    "Mclean Virginia area data is extracted from the OpenStreetMap website.\n",
    "I created 3 python scripts: “finalProject_osm_to_json.py”, “finalProject_dbinsert.py”, and “finalProject_aggregate.py”."
   ]
  },
  {
   "cell_type": "markdown",
   "metadata": {},
   "source": [
    "### Data Overview"
   ]
  },
  {
   "cell_type": "markdown",
   "metadata": {},
   "source": [
    "#### Problems Encountered\n",
    "\n",
    "During the process of parsing the source of the data, many are redundant. For example, “Bing” is listed in a lot of different ways: “BING”, “bing”, “bing imagery”, etc. I parsed it manually since there are only few number of sources listed in the data. About 1.2% of the data contain the source. Below is the dictionary I used to parse the source of the data."
   ]
  },
  {
   "cell_type": "code",
   "execution_count": null,
   "metadata": {
    "collapsed": true
   },
   "outputs": [],
   "source": [
    "def fix_source(db):\n",
    "    \"\"\" Fix sources \"\"\"\n",
    "    fix_sources = {\"Bing\"  : ['Bing; knowledge; logic', \n",
    "                              'bing imagery,_data, field papers,on-site',\n",
    "                              'bing imagery,_data,field papers,on-site',\n",
    "                              \"binng\", \n",
    "                              \"BING\", \n",
    "                              \"bing\", \n",
    "                              \"bing imagery\", \n",
    "                              \"Bing imagery\", \n",
    "                              \"bing imagery, _data,firld papers,on-site\", \n",
    "                              'bing imagery, _data, field papers, on-site', \n",
    "                              \"biung\", \n",
    "                              \"Bing, site visit\"],\n",
    "                   \"Yahoo\" : [\"Yahoo imagery\", \n",
    "                              \"yahoo\"],\n",
    "                   \"site visit\" : [\"Site visit\", \n",
    "                                   \"imagery\", \n",
    "                                   \"site survey\", \n",
    "                                   \"GPS, site visit\"],\n",
    "                   \"ground truth\" : [\"ground truthing\"],\n",
    "                   \"fairfaxtrails.org\" : ['http://www.fairfaxtrails.org', \n",
    "                                          'http://www.fairfaxtrails.org/pimmit/110707Legal_brochures_updown.pdf'],\n",
    "                   \"Fairfax County GIS\" : ['http://www.fairfaxcounty.gov/library/branches/dm/',\n",
    "                                           'Fairfax County Free GIS data',\n",
    "                                           'www.fairfaxcounty.gov > Tax Records property map 0602010037',\n",
    "                                           'Fairfax County GIS (http://www.fairfaxcounty.gov/maps/metadata.htm)',\n",
    "                                           'county_import_v0.1_20080508235459'],\n",
    "                   \"knowledge\" : ['from walking it',\n",
    "                                  'ground truth',\n",
    "                                  'I work there',\n",
    "                                  'local knowledge',\n",
    "                                  'In-person Source, ate there'],\n",
    "                   \"survey\" : [\"ground survey\"],\n",
    "                   \"Tiger\" : ['TIGER/Line 2008 Place Shapefiles (http://www.census.gov/geo/www/tiger/)', \n",
    "                              \"Tiger2008 by DaleP 2009-02-28\"],\n",
    "                   \"DCGIS\" : ['DCGIS; NPS',\n",
    "                              'DCGIS; NPS; Park Service Map; USGS NM',\n",
    "                              \"dcgis\"]}"
   ]
  },
  {
   "cell_type": "markdown",
   "metadata": {},
   "source": [
    "Beside the redundancy in the sources, there are some sources I don’t know so I had to google them to research about them. I looked at the map data and found that there are formatting problems in street names, postcodes and phone numbers.Street names are easy to fix because there are only few abbreviated names so I created a dictionary."
   ]
  },
  {
   "cell_type": "code",
   "execution_count": null,
   "metadata": {
    "collapsed": true
   },
   "outputs": [],
   "source": [
    "def parse_street(street):\n",
    "    dic = {\"Ct\": \"Court\",\n",
    "           \"Blvd\": \"Boulevard\",\n",
    "           \"Ave\": \"Avenue\",\n",
    "           \"E\": \"East\",\n",
    "           \"Rd\": \"Road\",\n",
    "           \"Pl\": \"Place\"\n",
    "        }\n",
    "    if street.split(\" \")[-1] in dic.keys():\n",
    "        street = street.replace(street.split(\" \")[-1], dic[street.split(\" \")[-1]])\n",
    "        return street\n",
    "    else:\n",
    "        return street"
   ]
  },
  {
   "cell_type": "markdown",
   "metadata": {},
   "source": [
    "The only odd postcodes contain “-“ after 5 digits. I took out any digits after “-“."
   ]
  },
  {
   "cell_type": "code",
   "execution_count": null,
   "metadata": {
    "collapsed": true
   },
   "outputs": [],
   "source": [
    "def parse_postcode(postcode):\n",
    "    return postcode.split(\"-\")[0]"
   ]
  },
  {
   "cell_type": "markdown",
   "metadata": {},
   "source": [
    "Some odd phone numbers contain country code “+1”. And there are some formats that have to be fixed such as “(###) ### - ####”, “### - ### - ####”, “###.###.####”, etc. I used regex and a sub method to take out all the unnecessary symbols."
   ]
  },
  {
   "cell_type": "code",
   "execution_count": null,
   "metadata": {
    "collapsed": true
   },
   "outputs": [],
   "source": [
    "phonechars = re.compile(r'[().\\-\\. ]')\n",
    "\n",
    "def parse_phone(phone):\n",
    "    if phone[0] == \"+\":\n",
    "        phone = phone[2:]\n",
    "    return phonechars.sub(\"\",phone)"
   ]
  },
  {
   "cell_type": "markdown",
   "metadata": {},
   "source": [
    "The most difficult problem was during the **Additional Ideas** section. I tried to calculate the number of houses around at each metro station. I found 9 metro stations from the database and 3 of them are nodes and 6 of them are ways. If they are nodes then I can extract the position data very easily but when they are ways then I need to think of a different way to find the position from the database. Each way contains more than 1 node in “node_refs” so I decided to use the first node. Now I have 1 node for each way. I extracted the position data for each node from the mongoDB database.When I tried to find the number of house within the range I designed, I also needed the position data for the houses. Unfortunately houses are ways so I had to do the same thing as I did for the ways of metros. At first I tried to find the position data for each house node just as I did when I found the position for each node of metro stations, and it took about 10 minutes. There were only 6 metro stations, but there were more than thousand houses. I realized that aggregating the data for each house was very inefficient. I read through the mongoDB document to figure out more efficient way of doing it and I found I can use **$in** to avoid aggregating the database for each house. After this modification, the script took less than 1 minute to run."
   ]
  },
  {
   "cell_type": "markdown",
   "metadata": {},
   "source": [
    "### File Sizes\n",
    "\n",
    "map           77,783 KB\n",
    "\n",
    "map.json 115,040 KB\n"
   ]
  },
  {
   "cell_type": "markdown",
   "metadata": {},
   "source": [
    "### Convert osm to json\n",
    "I only extracted node and way data from the map osm file.This is the format of node data and way data written in the json file."
   ]
  },
  {
   "cell_type": "code",
   "execution_count": null,
   "metadata": {
    "collapsed": true
   },
   "outputs": [],
   "source": [
    "node = {\n",
    "    \"id\": None,\n",
    "    \"visible\": None,\n",
    "    \"type\": \"node\",\n",
    "    \"railway\": None,\n",
    "    \"amenity\": None,\n",
    "    \"name\": None,\n",
    "    \"pos\": {\n",
    "        \"lat\": None,\n",
    "        \"lon\": None\n",
    "        },\n",
    "    \"created\" : {\n",
    "        \"changeset\": None,\n",
    "        \"user\": None,\n",
    "        \"version\": None,\n",
    "        \"uid\": None,\n",
    "        \"timestamp\": None,\n",
    "        \"source\" : None\n",
    "        }\n",
    "    }\n",
    "\n",
    "way = {\n",
    "    \"id\" : None,\n",
    "    \"type\": \"way\",\n",
    "    \"address\":{},\n",
    "    \"railway\": None,\n",
    "    \"name\": None,\n",
    "    \"building\" : None,\n",
    "    \"created\" : {\n",
    "        \"changeset\": None,\n",
    "        \"user\": None,\n",
    "        \"version\": None,\n",
    "        \"uid\": None,\n",
    "        \"timestamp\": None,\n",
    "        \"source\" : None\n",
    "    }\n",
    "}"
   ]
  },
  {
   "cell_type": "markdown",
   "metadata": {},
   "source": [
    "### Insert the json file to mongoDB"
   ]
  },
  {
   "cell_type": "markdown",
   "metadata": {},
   "source": [
    "    In: db.map.find_one()\n",
    "    Out: {u'amenity': None, u'name': None, u'created': {u'changeset': u'19557774', u'uid': u'1677159', u'timestamp': u'2013-12-20T22:10:17Z', u'source': None, u'version': u'3', u'user': u'Jason Gottshall'}, u'pos': {u'lat': 38.869535, u'lon': -77.1495846}, u'visible': None, u'railway': None, u'_id': ObjectId('572ed501c7f1e9250cfe1570'), u'type': u'node', u'id': u'246574'}\n",
    "    \n",
    "    In: db.map.count()\n",
    "    Out: 398663"
   ]
  },
  {
   "cell_type": "markdown",
   "metadata": {},
   "source": [
    "### Data Analysis"
   ]
  },
  {
   "cell_type": "markdown",
   "metadata": {},
   "source": [
    "    # Total Number of Records\n",
    "    In: db.map.count()\n",
    "    Out: 398663\n",
    "\n",
    "    # Total Number of Nodes\n",
    "    In: db.map.find({“type”:”node”}).count()\n",
    "    Out: 353600\n",
    "\n",
    "    # Total Number of Ways\n",
    "    In: db.map.find({“type”:”way”}).count()\n",
    "    Out: 45063\n",
    "\n",
    "    # Total Number of Unique Users\n",
    "    In: len(db.map.distinct(“created.user”))\n",
    "    Out: 531\n",
    "\n",
    "    # Total Number of Unique Sources\n",
    "    In: db.map.distinct(“created.source”)\n",
    "    Out: 61\n",
    "\n",
    "    # Top Contributing Users\n",
    "    In: top_user = db.map.aggregate([{\"$group\":{\"_id\":\"$created.user\", \"count\":{\"$sum\":1}}}, {\"$sort\":{\"count\":-1}}, {\"$limit\":5}])\n",
    "    In: for doc in top_user:\n",
    "            print doc\n",
    "    out: \n",
    "    {u'count': 133558, u'_id': u'ingalls'}\n",
    "    {u'count': 40190, u'_id': u'woodpeck_fixbot'}\n",
    "    {u'count': 38561, u'_id': u'Your Village Maps'}\n",
    "    {u'count': 26405, u'_id': u'shoe'}\n",
    "    {u'count': 20858, u'_id': u'kriscarle'}\n",
    "\n",
    "    # Top Sources\n",
    "    In: top_source = db.map.aggregate([{\"$group\":{\"_id\":\"$created.source\", \"count\":{\"$sum\":1}}}, {\"$sort\":{\"count\":-1}}, {\"$limit\":5}])\n",
    "    in:  for doc in top_source:\n",
    "            print doc\n",
    "    out:\n",
    "    {u'count': 394065, u'_id': None}\n",
    "    {u'count': 3385, u'_id': u'Bing'}\n",
    "    {u'count': 420, u'_id': u'Fairfax County GIS'}\n",
    "    {u'count': 290, u'_id': u'Yahoo'}\n",
    "    {u'count': 106, u'_id': u'survey'}\n",
    "\n",
    "    # Number of One Time users\n",
    "    In: one_time_users = db.map.aggregate([ {\n",
    "                                            \"$group\": {\n",
    "                                                \"_id\": \"$created.user\",\n",
    "                                                \"count\": { \"$sum\" : 1}\n",
    "                                                }\n",
    "                                            },\n",
    "                                            {\n",
    "                                            \"$match\": {\n",
    "                                                \"count\" : 1\n",
    "                                                }\n",
    "                                            }\n",
    "                                        ])\n",
    "        count = 0\n",
    "        one_time_users_list = []\n",
    "        for user in one_time_users:\n",
    "            one_time_users_list.append(user)\n",
    "            count += 1\n",
    "        count\n",
    "    out: 108\n",
    "\n",
    "    # Top Amenities\n",
    "    In: num_metros = db.map.aggregate([\n",
    "                {\n",
    "                \"$match\": {\"amenity\": {\"$ne\": None}}\n",
    "                },\n",
    "                {\n",
    "                \"$group\": {\"_id\": \"$amenity\", \"count\": {\"$sum\": 1}}\n",
    "                },\n",
    "                {\n",
    "                \"$sort\" : {\"count\": -1}\n",
    "                },\n",
    "                {\n",
    "                \"$limit\": 5\n",
    "                }\n",
    "            ])\n",
    "        for i in num_metros:\n",
    "            print i\n",
    "    Out:\n",
    "    {u'count': 173, u'_id': u'restaurant'}\n",
    "    {u'count': 101, u'_id': u'place_of_worship'}\n",
    "    {u'count': 79, u'_id': u'school'}\n",
    "    {u'count': 57, u'_id': u'fuel'}\n",
    "    {u'count': 49, u'_id': u'fast_food'}\n",
    "\n",
    "    # Number of types of Amenities\n",
    "    In:    num_metros = db.map.aggregate([\n",
    "                {\n",
    "                \"$match\": {\"amenity\": {\"$ne\": None}}\n",
    "                },\n",
    "                {\n",
    "                \"$group\": {\"_id\": \"$amenity\"}\n",
    "                },\n",
    "                {\n",
    "                \"$group\": {\"_id\": None, \"count\": {\"$sum\": 1}}\n",
    "                }\n",
    "            ])\n",
    "        for i in num_metros:\n",
    "            print \"\\nNumber of Amenities:\", i[\"count\"]\n",
    "    Out: 59\n",
    "\n",
    "    # Number of amenities exists in the data\n",
    "    In:    num_metros = db.map.aggregate([\n",
    "                {\n",
    "                \"$match\": {\"amenity\": {\"$ne\": None}}\n",
    "                },\n",
    "                {\n",
    "                \"$group\": {\"_id\": None, \"count\": {\"$sum\": 1}}\n",
    "                }\n",
    "            ])\n",
    "        for i in num_metros:\n",
    "            print i[\"count\"]\n",
    "    Out: 872\n",
    "\n",
    "    # Number of Schools\n",
    "    In:    num_metros = db.map.aggregate([\n",
    "                {\n",
    "                \"$match\": {\"amenity\": \"school\"}\n",
    "                },\n",
    "                {\n",
    "                \"$group\": {\"_id\": None, \"count\":{\"$sum\":1}}\n",
    "                }\n",
    "            ])\n",
    "        for i in num_metros:\n",
    "            print i[\"count\"]\n",
    "    Out: 79\n",
    "\n",
    "    #Number of Buildings\n",
    "    In:    num_metros = db.map.aggregate([\n",
    "                {\n",
    "                \"$match\": {\"building\": {\"$ne\": None}}\n",
    "                },\n",
    "                {\n",
    "                \"$group\": {\"_id\": None, \"count\":{\"$sum\": 1}}\n",
    "                }\n",
    "            ])\n",
    "        for i in num_metros:\n",
    "            print \"\\nNumber of Buildings:\", i[\"count\"]\n",
    "    Out: Number of Buildings: 27684 \n"
   ]
  },
  {
   "cell_type": "markdown",
   "metadata": {},
   "source": [
    "### Additional Statistics"
   ]
  },
  {
   "cell_type": "markdown",
   "metadata": {},
   "source": [
    "    # Percentage of Top Source – “None”: 98.8466449106 %\n",
    "\n",
    "    # Percentage of 2nd Top Srouce – “Bing”: 0.849088076897 % \n",
    "\n",
    "    # Percentage of Top User – “ingalls”: 33.5014786925 %\n",
    "\n",
    "    # Percentage of Top Amenity – “restaurant”: 19.8394495413 %"
   ]
  },
  {
   "cell_type": "markdown",
   "metadata": {},
   "source": [
    "### Additional Ideas\n",
    "\n",
    "I am living in this area and I know a lot of people who try to find the house near the metro stations. So I decided to find the metro station with the largest number houses around it.First I found the number of metros in my map collection."
   ]
  },
  {
   "cell_type": "code",
   "execution_count": null,
   "metadata": {
    "collapsed": true
   },
   "outputs": [],
   "source": [
    "# Getting metro station data\n",
    "\"\"\" Number of Metros \"\"\"\n",
    "metros = db.map.aggregate([\n",
    "        {\n",
    "        \"$match\": {\"railway\": \"station\"}\n",
    "        }\n",
    "        # {\n",
    "        # \"$project\": {\"railway\": \"$railway\",\n",
    "        #              \"name\" : \"$name\",\n",
    "        #              \"type\" : \"$type\"}\n",
    "        # }\n",
    "    ])\n",
    "print \"\\nMetros\"\n",
    "metro_lists = []\n",
    "for i in metros:\n",
    "    print i[\"name\"], \"-\", i[\"type\"]\n",
    "    if i[\"type\"] == \"node\":\n",
    "        print \"position:\", i[\"pos\"]\n",
    "    metro_lists.append(i)"
   ]
  },
  {
   "cell_type": "markdown",
   "metadata": {},
   "source": [
    "#### Out:\n",
    "    Metros\n",
    "    East Falls Church - node\n",
    "    position: {u'lat': 38.8859763, u'lon': -77.1568243}\n",
    "    Vienna/Fairfax-GMU - node\n",
    "    position: {u'lat': 38.8776013, u'lon': -77.2722884}\n",
    "    West Falls Church Metro - node\n",
    "    position: {u'lat': 38.9007928, u'lon': -77.1889651}\n",
    "    Spring Hill - way\n",
    "    Greensboro - way\n",
    "    Tysons Corner - way\n",
    "    McLean - way\n",
    "    West Falls Church-VT/UVA - way\n",
    "    Dunn Loring-Merrifield - way\n"
   ]
  },
  {
   "cell_type": "markdown",
   "metadata": {},
   "source": [
    "Here the problem occurs. Way information doesn’t have a position data and it only has nodes. According to the result above, 6 out of 9 are ways.Each way has “node-refs” information and I am going to take the first node from each way data and create a new dictionary that links metro names to nodes."
   ]
  },
  {
   "cell_type": "code",
   "execution_count": null,
   "metadata": {
    "collapsed": true
   },
   "outputs": [],
   "source": [
    "print \"\\nFind the first node from way information\"\n",
    "way_nodes = {}\n",
    "for i in metro_lists:\n",
    "    if i[\"type\"] == \"way\":\n",
    "        way_nodes[i[\"name\"]] = i[\"node_refs\"]\n",
    "pprint.pprint(way_nodes)"
   ]
  },
  {
   "cell_type": "markdown",
   "metadata": {},
   "source": [
    "#### Out:\n",
    "    Find the first node from way information\n",
    "    {u'Dunn Loring-Merrifield': u'2363986739',\n",
    "     u'Greensboro': u'2362666881',\n",
    "     u'McLean': u'2362684874',\n",
    "     u'Spring Hill': u'2362647097',\n",
    "     u'Tysons Corner': u'2362670319',\n",
    "     u'West Falls Church-VT/UVA': u'2363747447'}\n"
   ]
  },
  {
   "cell_type": "markdown",
   "metadata": {},
   "source": [
    "Then I aggregate the map collection from the MongoDB find the position information from the node data."
   ]
  },
  {
   "cell_type": "code",
   "execution_count": null,
   "metadata": {
    "collapsed": true
   },
   "outputs": [],
   "source": [
    "print \"\\nFind the position of each node of metros \"\n",
    "nodes_pos = {}\n",
    "for node in way_nodes.values():\n",
    "    db_way_nodes = db.map.aggregate([\n",
    "            {\n",
    "            \"$match\": {\"id\": node}\n",
    "            },\n",
    "            {\n",
    "            \"$project\": {\"node\": \"$id\",\n",
    "                         \"pos\" : \"$pos\"}\n",
    "            }\n",
    "        ])\n",
    "    for i in db_way_nodes:\n",
    "        nodes_pos[i[\"node\"]] = i[\"pos\"]"
   ]
  },
  {
   "cell_type": "markdown",
   "metadata": {},
   "source": [
    "Finally, I create a new dictionary that connects metro names to position data."
   ]
  },
  {
   "cell_type": "code",
   "execution_count": null,
   "metadata": {
    "collapsed": true
   },
   "outputs": [],
   "source": [
    "way_pos = {}\n",
    "for metro in way_nodes:\n",
    "    way_pos[metro] = nodes_pos[way_nodes[metro]]\n",
    "\n",
    "way_pos[\"East Falls Church\"] = {'lat': 38.8859763, 'lon': -77.1568243}\n",
    "way_pos[\"Vienna/Fairfax-GMU\"] = {'lat': 38.8776013, 'lon': -77.2722884}\n",
    "\n",
    "print \"Way to position:\"\n",
    "pprint.pprint(way_pos)"
   ]
  },
  {
   "cell_type": "markdown",
   "metadata": {},
   "source": [
    "#### Out:\n",
    "    Create metros to positions\n",
    "    Way to position:\n",
    "    {u'Dunn Loring-Merrifield': {u'lat': 38.8832183, u'lon': -77.2288656},\n",
    "     'East Falls Church': {'lat': 38.8859763, 'lon': -77.1568243},\n",
    "     u'Greensboro': {u'lat': 38.9219619, u'lon': -77.2347193},\n",
    "     u'McLean': {u'lat': 38.9248036, u'lon': -77.2093675},\n",
    "     u'Spring Hill': {u'lat': 38.9285203, u'lon': -77.2413415},\n",
    "     u'Tysons Corner': {u'lat': 38.9206611, u'lon': -77.2235898},\n",
    "     'Vienna/Fairfax-GMU': {'lat': 38.8776013, 'lon': -77.2722884},\n",
    "     u'West Falls Church-VT/UVA': {u'lat': 38.9012072, u'lon': -77.188819}}\n"
   ]
  },
  {
   "cell_type": "markdown",
   "metadata": {},
   "source": [
    "I took out **West Falls Church Metro** because it is same as **West Falls Church-VT/UVA**. So I have total 8 metros in my map data. I need to have information about houses in the map data. According to the dataset, there are many types of buildings and I need to see which types are related to the residential building."
   ]
  },
  {
   "cell_type": "code",
   "execution_count": null,
   "metadata": {
    "collapsed": true
   },
   "outputs": [],
   "source": [
    "print \"\\nFind the type of buildings\"\n",
    "# Find residential type of buildings\n",
    "num_metros = db.map.aggregate([\n",
    "        {\n",
    "        \"$match\": {\"building\": {\"$ne\": None}}\n",
    "        },\n",
    "        {\n",
    "        \"$group\": {\"_id\": \"$building\", \"count\": {\"$sum\": 1}}\n",
    "        },\n",
    "        {\n",
    "        \"$sort\": {\"count\": -1}\n",
    "        }\n",
    "    ])\n",
    "for i in num_metros:\n",
    "    pprint.pprint(i)"
   ]
  },
  {
   "cell_type": "markdown",
   "metadata": {},
   "source": [
    "#### Out:\n",
    "    Find the type of buildings\n",
    "    {u'_id': u'yes', u'count': 21572}\n",
    "    {u'_id': u'detached', u'count': 2372}\n",
    "    {u'_id': u'residential', u'count': 1371}\n",
    "    {u'_id': u'house', u'count': 1267}\n",
    "    {u'_id': u'apartments', u'count': 339}\n",
    "    {u'_id': u'garage', u'count': 143}\n",
    "    {u'_id': u'office', u'count': 136}\n",
    "    {u'_id': u'Townhouse', u'count': 118}\n",
    "    {u'_id': u'retail', u'count': 97}\n",
    "    {u'_id': u'commercial', u'count': 59}\n",
    "    {u'_id': u'roof', u'count': 49}\n",
    "    {u'_id': u'terrace', u'count': 39}\n",
    "    {u'_id': u'school', u'count': 36}\n",
    "    {u'_id': u'public', u'count': 17}\n",
    "    {u'_id': u'industrial', u'count': 17}\n",
    "    {u'_id': u'shed', u'count': 16}\n",
    "    {u'_id': u'church', u'count': 13}\n",
    "    {u'_id': u'no', u'count': 7}\n",
    "    {u'_id': u'hotel', u'count': 4}\n",
    "    {u'_id': u'manufacture', u'count': 2}\n",
    "    {u'_id': u'walkway', u'count': 2}\n",
    "    {u'_id': u'Pumping_Station', u'count': 1}\n",
    "    {u'_id': u'hospital', u'count': 1}\n",
    "    {u'_id': u'canopy', u'count': 1}\n",
    "    {u'_id': u'barn', u'count': 1}\n",
    "    {u'_id': u'bleachers', u'count': 1}\n",
    "    {u'_id': u'university', u'count': 1}\n",
    "    {u'_id': u'warehouse', u'count': 1}\n",
    "    {u'_id': u'parking_garage', u'count': 1}\n",
    "\n",
    "Among the types of buildings above, “apartments”, “residential”, “house”, and “Townhouse” are residential buildings. I filter these residential buildings and extract the node information."
   ]
  },
  {
   "cell_type": "code",
   "execution_count": null,
   "metadata": {
    "collapsed": true
   },
   "outputs": [],
   "source": [
    "num_metros = db.map.aggregate([\n",
    "        {\n",
    "        \"$match\": {\n",
    "                \"$or\":\n",
    "                [\n",
    "                {\"building\": \"apartments\"},\n",
    "                {\"building\": \"residential\"},\n",
    "                {\"building\": \"house\"},\n",
    "                {\"building\": \"Townhouse\"}\n",
    "                ]\n",
    "            }\n",
    "        },\n",
    "        {\n",
    "        \"$project\": {\"node\": \"$node_refs\"}\n",
    "        }\n",
    "    ])\n",
    "\n",
    "array_building_nodes = []\n",
    "for i in num_metros:\n",
    "    array_building_nodes.append(i[\"node\"])\n"
   ]
  },
  {
   "cell_type": "code",
   "execution_count": null,
   "metadata": {
    "collapsed": true
   },
   "outputs": [],
   "source": [
    "db_building_nodes_pos = db.map.aggregate([\n",
    "        {\n",
    "        \"$match\": {\n",
    "            \"type\": \"node\",\n",
    "            \"id\": {\"$in\" : array_building_nodes}\n",
    "            }\n",
    "        }\n",
    "    ])\n",
    "building_pos = []\n",
    "for i in db_building_nodes_pos:\n",
    "    lat = i[\"pos\"][\"lat\"]\n",
    "    lon = i[\"pos\"][\"lon\"]\n",
    "    building_pos.append([lat,lon])\n",
    "\n",
    "print \"\\nLength of building:\", len(building_pos)\n"
   ]
  },
  {
   "cell_type": "markdown",
   "metadata": {},
   "source": [
    "#### Out:\n",
    "    Length of building: 3089\n",
    "    \n",
    "There are 3089 houses in the dataset. Now I have all the information I need to calculate the number of houses near each metro. I am going to create a square shaped range around each position of metros and count the number of houses within the range. The length of a side of the square is 0.04."
   ]
  },
  {
   "cell_type": "code",
   "execution_count": null,
   "metadata": {
    "collapsed": true
   },
   "outputs": [],
   "source": [
    "print \"\\nFind the number of houses near each metro\"\n",
    "for metro in way_pos.keys():\n",
    "    count = 0\n",
    "    lat = way_pos[metro][\"lat\"]\n",
    "    lon = way_pos[metro][\"lon\"]\n",
    "    for pos in building_pos:\n",
    "        if pos[0] >= lat - 0.02 and \\\n",
    "            pos[0] <= lat + 0.02 and \\\n",
    "            pos[1] >= lon - 0.02 and \\\n",
    "            pos[1] <= lon + 0.02:\n",
    "            count += 1\n",
    "    print metro, \":\", count\n"
   ]
  },
  {
   "cell_type": "markdown",
   "metadata": {},
   "source": [
    "#### Out:\n",
    "    Find the number of houses near each metro\n",
    "    McLean : 15\n",
    "    Spring Hill : 46\n",
    "    West Falls Church-VT/UVA : 225\n",
    "    East Falls Church : 381\n",
    "    Tysons Corner : 46\n",
    "    Vienna/Fairfax-GMU : 712\n",
    "    Dunn Loring-Merrifield : 134\n",
    "    Greensboro : 48\n",
    "\n",
    "According to the result, there are the most number of houses near the “Vienna/Fairfax-GMU” station and the least number of houses near the “McLean” station."
   ]
  }
 ],
 "metadata": {
  "kernelspec": {
   "display_name": "Python 2",
   "language": "python",
   "name": "python2"
  },
  "language_info": {
   "codemirror_mode": {
    "name": "ipython",
    "version": 2
   },
   "file_extension": ".py",
   "mimetype": "text/x-python",
   "name": "python",
   "nbconvert_exporter": "python",
   "pygments_lexer": "ipython2",
   "version": "2.7.11"
  }
 },
 "nbformat": 4,
 "nbformat_minor": 0
}
